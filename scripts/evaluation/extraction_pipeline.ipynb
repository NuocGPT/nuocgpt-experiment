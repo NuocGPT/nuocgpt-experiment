{
 "cells": [
  {
   "cell_type": "code",
   "execution_count": null,
   "metadata": {},
   "outputs": [],
   "source": [
    "import openai\n",
    "import os\n",
    "\n",
    "from dotenv import load_dotenv, find_dotenv\n",
    "_ = load_dotenv(find_dotenv())\n",
    "\n",
    "openai.api_key  = os.getenv('OPENAI_API_KEY')"
   ]
  },
  {
   "cell_type": "markdown",
   "metadata": {},
   "source": [
    "### Extract Text from PDF Papers"
   ]
  },
  {
   "cell_type": "code",
   "execution_count": null,
   "metadata": {},
   "outputs": [],
   "source": [
    "from llama_index import VectorStoreIndex, SimpleDirectoryReader\n",
    "\n",
    "documents = SimpleDirectoryReader('../../data/PDFs').load_data()\n",
    "index = VectorStoreIndex.from_documents(documents)"
   ]
  },
  {
   "cell_type": "markdown",
   "metadata": {},
   "source": [
    "### Generate Questions"
   ]
  },
  {
   "cell_type": "code",
   "execution_count": null,
   "metadata": {},
   "outputs": [],
   "source": [
    "from llama_index.evaluation import DatasetGenerator\n",
    "\n",
    "data_generator = DatasetGenerator.from_documents(documents)\n",
    "questions = data_generator.generate_questions_from_nodes()\n",
    "questions"
   ]
  },
  {
   "cell_type": "code",
   "execution_count": null,
   "metadata": {},
   "outputs": [],
   "source": [
    "with open('../../data/llama_index_generated_questions.txt', 'w') as wf:\n",
    "    for q in questions:\n",
    "        wf.write(\"%s\\n\" % q)"
   ]
  },
  {
   "cell_type": "markdown",
   "metadata": {},
   "source": [
    "### Evaluation"
   ]
  },
  {
   "cell_type": "markdown",
   "metadata": {},
   "source": [
    "##### Are questions, answers, and context matching?"
   ]
  },
  {
   "cell_type": "code",
   "execution_count": null,
   "metadata": {},
   "outputs": [],
   "source": [
    "import random\n",
    "\n",
    "sampled_questions = random.sample(questions, 100)"
   ]
  },
  {
   "cell_type": "code",
   "execution_count": null,
   "metadata": {},
   "outputs": [],
   "source": [
    "import pandas as pd\n",
    "import time\n",
    "from llama_index.evaluation import ResponseEvaluator\n",
    "from llama_index.evaluation import QueryResponseEvaluator\n",
    "from llama_index.llm_predictor import LLMPredictor\n",
    "from langchain.chat_models import ChatOpenAI\n",
    "from llama_index import ServiceContext\n",
    "\n",
    "llm_predictor = LLMPredictor(llm=ChatOpenAI(temperature=0, model_name=\"gpt-4\"))\n",
    "service_context = ServiceContext.from_defaults(llm_predictor=llm_predictor)\n",
    "r_evaluator = ResponseEvaluator(service_context=service_context)\n",
    "qr_evaluator = QueryResponseEvaluator(service_context=service_context)\n",
    "\n",
    "query_engine = index.as_query_engine()\n",
    "questions_and_answers = []\n",
    "for q in sampled_questions:\n",
    "    a = query_engine.query(q)\n",
    "    r_eval_result = r_evaluator.evaluate(a)\n",
    "    time.sleep(8)\n",
    "    qr_eval_result = qr_evaluator.evaluate(q, a)\n",
    "    questions_and_answers.append({'Question': q, 'Answer': a.response, 'Answer-Context Match': r_eval_result, 'Question-Answer-Context Match': qr_eval_result})\n",
    "    time.sleep(8)\n",
    "\n",
    "qa_match_df = pd.DataFrame(questions_and_answers)\n",
    "qa_match_df"
   ]
  },
  {
   "cell_type": "code",
   "execution_count": null,
   "metadata": {},
   "outputs": [],
   "source": [
    "with open('questions_answers_english_validation.json', 'w', encoding='utf-8') as file:\n",
    "    qa_match_df.to_json(file, force_ascii=False, orient='records', lines=True, indent=4)"
   ]
  },
  {
   "cell_type": "code",
   "execution_count": null,
   "metadata": {},
   "outputs": [],
   "source": [
    "qa_match_df[qa_match_df['Answer-Context Match'] == 'YES']"
   ]
  },
  {
   "cell_type": "code",
   "execution_count": null,
   "metadata": {},
   "outputs": [],
   "source": [
    "qa_match_df[qa_match_df['Question-Answer-Context Match'] == 'YES']"
   ]
  },
  {
   "cell_type": "markdown",
   "metadata": {},
   "source": [
    "### Evaluation Part 2: Questions in Vietnamese"
   ]
  },
  {
   "cell_type": "markdown",
   "metadata": {},
   "source": [
    "##### Translate sampled questions to Vietnamese"
   ]
  },
  {
   "cell_type": "code",
   "execution_count": null,
   "metadata": {},
   "outputs": [],
   "source": [
    "def gpt4_translate_to_vi(question):\n",
    "    \"\"\"\n",
    "    Translate a question to Vietnamese using GPT-4 model.\n",
    "\n",
    "    :param question: Input question\n",
    "    :return: Translated question\n",
    "    \"\"\"\n",
    "    messages = [\n",
    "        {\n",
    "            \"role\": \"system\",\n",
    "            \"content\": f\"Translate the following question delimited by triple backticks to Vietnamese: {question}\"\n",
    "        }\n",
    "    ]\n",
    "    response = openai.ChatCompletion.create(\n",
    "        model=\"gpt-4\",\n",
    "        messages=messages,\n",
    "        max_tokens=1000,\n",
    "        temperature=0)\n",
    "    return response[\"choices\"][0][\"message\"][\"content\"].strip()"
   ]
  },
  {
   "cell_type": "code",
   "execution_count": null,
   "metadata": {},
   "outputs": [],
   "source": [
    "# Using loop instead of list comprehension because token per minute rate exceeded\n",
    "sampled_vi_questions = []\n",
    "for q in sampled_questions:\n",
    "    sampled_vi_questions.append(gpt4_translate_to_vi(q))\n",
    "    time.sleep(5)\n",
    "sampled_vi_questions"
   ]
  },
  {
   "cell_type": "code",
   "execution_count": null,
   "metadata": {},
   "outputs": [],
   "source": [
    "vi_questions_and_answers = []\n",
    "for q in sampled_vi_questions:\n",
    "    a = query_engine.query(q)\n",
    "    r_eval_result = r_evaluator.evaluate(a)\n",
    "    time.sleep(8)\n",
    "    qr_eval_result = qr_evaluator.evaluate(q, a)\n",
    "    vi_questions_and_answers.append({'Question': q, 'Answer': a.response, 'Answer-Context Match': r_eval_result, 'Question-Answer-Context Match': qr_eval_result})\n",
    "    time.sleep(8)\n",
    "\n",
    "vi_qa_match_df = pd.DataFrame(vi_questions_and_answers)\n",
    "vi_qa_match_df"
   ]
  },
  {
   "cell_type": "code",
   "execution_count": null,
   "metadata": {},
   "outputs": [],
   "source": [
    "with open('questions_answers_vietnamese_validation.json', 'w', encoding='utf-8') as file:\n",
    "    vi_qa_match_df.to_json(file, force_ascii=False, orient='records', lines=True, indent=4)"
   ]
  },
  {
   "cell_type": "code",
   "execution_count": null,
   "metadata": {},
   "outputs": [],
   "source": [
    "vi_qa_match_df[vi_qa_match_df['Answer-Context Match'] == 'YES']"
   ]
  },
  {
   "cell_type": "code",
   "execution_count": null,
   "metadata": {},
   "outputs": [],
   "source": [
    "vi_qa_match_df[vi_qa_match_df['Question-Answer-Context Match'] == 'YES']"
   ]
  },
  {
   "cell_type": "code",
   "execution_count": null,
   "metadata": {},
   "outputs": [],
   "source": [
    "vi_qa_match_df[vi_qa_match_df['Answer-Context Match'] == 'NO']"
   ]
  },
  {
   "cell_type": "markdown",
   "metadata": {},
   "source": [
    "### Evaluation Analysis"
   ]
  },
  {
   "cell_type": "code",
   "execution_count": null,
   "metadata": {},
   "outputs": [],
   "source": [
    "qa_match_df.rename(columns={'Question': 'English Question', 'Answer': 'English Answer', 'Answer-Context Match': 'English Answer-Context Match', 'Question-Answer-Context Match': 'English Question-Answer-Context Match'}, inplace=True)\n",
    "qa_match_df"
   ]
  },
  {
   "cell_type": "code",
   "execution_count": null,
   "metadata": {},
   "outputs": [],
   "source": [
    "vi_qa_match_df.rename(columns={'Question': 'Vietnamese Question', 'Answer': 'Vietnamese Answer', 'Answer-Context Match': 'Vietnamese Answer-Context Match', 'Question-Answer-Context Match': 'Vietnamese Question-Answer-Context Match'}, inplace=True)\n",
    "vi_qa_match_df"
   ]
  },
  {
   "cell_type": "code",
   "execution_count": null,
   "metadata": {},
   "outputs": [],
   "source": [
    "agg_qa_match_df = pd.concat([qa_match_df, vi_qa_match_df], axis=1)\n",
    "agg_qa_match_df"
   ]
  },
  {
   "cell_type": "code",
   "execution_count": null,
   "metadata": {},
   "outputs": [],
   "source": [
    "largest_discrep_eng_vi_qa_df = agg_qa_match_df[(agg_qa_match_df['Vietnamese Answer-Context Match'] == 'NO') & (agg_qa_match_df['English Answer-Context Match'] == 'YES')]\n",
    "largest_discrep_eng_vi_qa_df"
   ]
  },
  {
   "cell_type": "code",
   "execution_count": null,
   "metadata": {},
   "outputs": [],
   "source": [
    "largest_discrep_eng_vi_ans_df = largest_discrep_eng_vi_qa_df[['English Answer', 'Vietnamese Answer']]\n",
    "largest_discrep_eng_vi_ans_df"
   ]
  },
  {
   "cell_type": "code",
   "execution_count": null,
   "metadata": {},
   "outputs": [],
   "source": [
    "def gpt4_translate_vi_to_en(text):\n",
    "    \"\"\"\n",
    "    Translate from Vietnamese to English using GPT-4 model. Used for translating generated answers in Vietnamese.\n",
    "\n",
    "    :param question: Input text\n",
    "    :return: Translated text\n",
    "    \"\"\"\n",
    "    messages = [\n",
    "        {\n",
    "            \"role\": \"system\",\n",
    "            \"content\": f\"Translate the following Vietnamese text delimited by triple backticks to English: {text}\"\n",
    "        }\n",
    "    ]\n",
    "    response = openai.ChatCompletion.create(\n",
    "        model=\"gpt-4\",\n",
    "        messages=messages,\n",
    "        max_tokens=1000,\n",
    "        temperature=0)\n",
    "    return response[\"choices\"][0][\"message\"][\"content\"].strip()"
   ]
  },
  {
   "cell_type": "code",
   "execution_count": null,
   "metadata": {},
   "outputs": [],
   "source": [
    "translated_from_vi_to_en = []\n",
    "for t in largest_discrep_eng_vi_ans_df['Vietnamese Answer'].tolist():\n",
    "    translated_from_vi_to_en.append(gpt4_translate_vi_to_en(t))\n",
    "    time.sleep(5)\n",
    "largest_discrep_eng_vi_ans_df['English Translation of Vietnamese Answer'] = translated_from_vi_to_en\n",
    "largest_discrep_eng_vi_ans_df"
   ]
  },
  {
   "cell_type": "code",
   "execution_count": null,
   "metadata": {},
   "outputs": [],
   "source": [
    "def gpt4_check_texts_similar_meaning(text_one, text_two):\n",
    "    \"\"\"\n",
    "    Checks if two bodies of text have the same meaning using GPT-4 model.\n",
    "\n",
    "    :param question: Input text\n",
    "    :return: Translated text\n",
    "    \"\"\"\n",
    "    messages = [\n",
    "        {\n",
    "            \"role\": \"system\",\n",
    "            \"content\": f\"\"\"On a scale of 1 to 10, where 1 means completely different and 10 means exactly the same,\n",
    "            how similar in meaning are the following two bodies of text delimited by triple backticks?\n",
    "            \n",
    "            text_one: ```{text_one}```\n",
    "            text_two: ```{text_two}\"\"\"\n",
    "        }\n",
    "    ]\n",
    "    response = openai.ChatCompletion.create(\n",
    "        model=\"gpt-4\",\n",
    "        messages=messages,\n",
    "        max_tokens=1000,\n",
    "        temperature=0)\n",
    "    return response[\"choices\"][0][\"message\"][\"content\"].strip()"
   ]
  },
  {
   "cell_type": "code",
   "execution_count": null,
   "metadata": {},
   "outputs": [],
   "source": [
    "similar_meaning = []\n",
    "for en_ans, trans_vi_ans in zip(largest_discrep_eng_vi_ans_df['English Answer'].tolist(), largest_discrep_eng_vi_ans_df['English Translation of Vietnamese Answer']):\n",
    "    sim_score = gpt4_check_texts_similar_meaning(en_ans, trans_vi_ans)\n",
    "    if len(sim_score) > 0:\n",
    "        similar_meaning.append(float(sim_score))\n",
    "    else:\n",
    "        similar_meaning.append(99999)\n",
    "    time.sleep(5)\n",
    "largest_discrep_eng_vi_ans_df['Similar Answer Score'] = similar_meaning\n",
    "largest_discrep_eng_vi_ans_df"
   ]
  },
  {
   "cell_type": "code",
   "execution_count": null,
   "metadata": {},
   "outputs": [],
   "source": [
    "from langdetect import detect\n",
    "\n",
    "en_ans_source_lang, vi_ans_source_lang = [], []\n",
    "for en_q, vi_q in zip(agg_qa_match_df['English Question'], agg_qa_match_df['Vietnamese Question']):\n",
    "    en_ans = query_engine.query(en_q)\n",
    "    src_langs = []\n",
    "    for source_node in en_ans.source_nodes:\n",
    "        src_langs.append(detect(source_node.node.text))\n",
    "    en_ans_source_lang.append(src_langs)\n",
    "    time.sleep(4)\n",
    "    vi_ans = query_engine.query(vi_q)\n",
    "    src_langs = []\n",
    "    for source_node in vi_ans.source_nodes:\n",
    "        src_langs.append(detect(source_node.node.text))\n",
    "    vi_ans_source_lang.append(src_langs)\n",
    "    time.sleep(4)\n",
    "agg_qa_match_df['Source Language(s) of English Answer'] = en_ans_source_lang\n",
    "agg_qa_match_df['Source Language(s) of Vietnamese Answer'] = vi_ans_source_lang\n",
    "agg_qa_match_df"
   ]
  },
  {
   "cell_type": "code",
   "execution_count": null,
   "metadata": {},
   "outputs": [],
   "source": [
    "for idx, row in agg_qa_match_df.iterrows():\n",
    "    for l in row['Source Language(s) of English Answer']:\n",
    "        if l != 'en':\n",
    "            print('Context for English answer not in English for idx ', idx)\n",
    "    for l in row['Source Language(s) of Vietnamese Answer']:\n",
    "        if l != 'vi':\n",
    "            print('Context for Vietnamese answer not in Vietnamese for idx ', idx)"
   ]
  },
  {
   "cell_type": "code",
   "execution_count": null,
   "metadata": {},
   "outputs": [],
   "source": [
    "with open('questions_answers_aggregate_validation.json', 'w', encoding='utf-8') as file:\n",
    "    agg_qa_match_df.to_json(file, force_ascii=False, orient='records', lines=True, indent=4)"
   ]
  },
  {
   "cell_type": "markdown",
   "metadata": {},
   "source": [
    "### Save Vector Index Preliminary Result"
   ]
  },
  {
   "cell_type": "code",
   "execution_count": null,
   "metadata": {},
   "outputs": [],
   "source": [
    "index.set_index_id(\"vector_index\")\n",
    "index.storage_context.persist('preliminary-llama-index')"
   ]
  },
  {
   "cell_type": "markdown",
   "metadata": {},
   "source": [
    "### Save List of PDF Papers"
   ]
  },
  {
   "cell_type": "code",
   "execution_count": null,
   "metadata": {},
   "outputs": [],
   "source": [
    "import os\n",
    "\n",
    "filenames = []\n",
    "dir_path = '../../data/PDFs/'\n",
    "for f in os.listdir(dir_path):\n",
    "    if os.path.isfile(os.path.join(dir_path, f)):\n",
    "        filenames.append(f)\n",
    "\n",
    "with open('extracted_files.txt', 'w') as wf:\n",
    "    for f in filenames:\n",
    "        wf.write(f + '\\n')"
   ]
  },
  {
   "cell_type": "markdown",
   "metadata": {},
   "source": [
    "### Sample English Question"
   ]
  },
  {
   "cell_type": "code",
   "execution_count": null,
   "metadata": {},
   "outputs": [],
   "source": [
    "english_question = \"What water supply issues exist in Dania Beach?\"\n",
    "query_engine = index.as_query_engine()\n",
    "response = query_engine.query(english_question)\n",
    "print(response)"
   ]
  },
  {
   "cell_type": "markdown",
   "metadata": {},
   "source": [
    "### Sample Vietnamese Question"
   ]
  },
  {
   "cell_type": "code",
   "execution_count": null,
   "metadata": {},
   "outputs": [],
   "source": [
    "vietnamese_question = \"\"\"Ở đâu trong vùng Mê Công là nơi có mức độ xâm nhập mặn cao nhất trong mùa khô 2019-2020\n",
    "và gây thiệt hại nghiêm trọng đối với các mô hình trồng cây ăn trái và nuôi trồng thủy sản?\"\"\"\n",
    "query_engine = index.as_query_engine()\n",
    "response = query_engine.query(vietnamese_question)\n",
    "print(response)"
   ]
  },
  {
   "cell_type": "markdown",
   "metadata": {},
   "source": [
    "### Load Index from Local Filesystem"
   ]
  },
  {
   "cell_type": "code",
   "execution_count": null,
   "metadata": {},
   "outputs": [],
   "source": [
    "from llama_index import StorageContext, load_index_from_storage\n",
    "\n",
    "sc = StorageContext.from_defaults(persist_dir='preliminary-llama-index')\n",
    "index2 = load_index_from_storage(sc, 'vector_index')"
   ]
  },
  {
   "cell_type": "code",
   "execution_count": null,
   "metadata": {},
   "outputs": [],
   "source": [
    "# Test same sample Vietnamese question from above\n",
    "vietnamese_question = \"\"\"Ở đâu trong vùng Mê Công là nơi có mức độ xâm nhập mặn cao nhất trong mùa khô 2019-2020\n",
    "và gây thiệt hại nghiêm trọng đối với các mô hình trồng cây ăn trái và nuôi trồng thủy sản?\"\"\"\n",
    "query_engine = index2.as_query_engine()\n",
    "response = query_engine.query(vietnamese_question)\n",
    "print(response)"
   ]
  },
  {
   "cell_type": "markdown",
   "metadata": {},
   "source": [
    "## GPT-3.5 Fine-Tuning"
   ]
  },
  {
   "cell_type": "markdown",
   "metadata": {},
   "source": [
    "### Get Question-Answer Pairs with Question-Answer-Context Match"
   ]
  },
  {
   "cell_type": "code",
   "execution_count": null,
   "metadata": {},
   "outputs": [],
   "source": [
    "questions = open('../../data/llama_index_generated_questions.txt', 'r').read().splitlines()\n",
    "len(questions)"
   ]
  },
  {
   "cell_type": "code",
   "execution_count": null,
   "metadata": {},
   "outputs": [],
   "source": [
    "sampled_questions = random.sample(questions, 550)"
   ]
  },
  {
   "cell_type": "code",
   "execution_count": null,
   "metadata": {},
   "outputs": [],
   "source": [
    "import pandas as pd\n",
    "import time\n",
    "from llama_index.evaluation import QueryResponseEvaluator\n",
    "from llama_index.llm_predictor import LLMPredictor\n",
    "from langchain.chat_models import ChatOpenAI\n",
    "from llama_index import ServiceContext\n",
    "\n",
    "llm_predictor = LLMPredictor(llm=ChatOpenAI(temperature=0, model_name=\"gpt-4\"))\n",
    "service_context = ServiceContext.from_defaults(llm_predictor=llm_predictor)\n",
    "qr_evaluator = QueryResponseEvaluator(service_context=service_context)\n",
    "\n",
    "query_engine = index.as_query_engine()\n",
    "questions_and_answers = []\n",
    "for q in sampled_questions:\n",
    "    a = query_engine.query(q)\n",
    "    time.sleep(5)\n",
    "    qr_eval_result = qr_evaluator.evaluate(q, a)\n",
    "    questions_and_answers.append({'Question': q, 'Answer': a.response, 'Question-Answer-Context Match': qr_eval_result})\n",
    "    time.sleep(4)\n",
    "\n",
    "qa_match_df = pd.DataFrame(questions_and_answers)\n",
    "qa_match_df"
   ]
  },
  {
   "cell_type": "code",
   "execution_count": null,
   "metadata": {},
   "outputs": [],
   "source": [
    "qa_match_df = qa_match_df[qa_match_df['Question-Answer-Context Match'] == 'YES']\n",
    "qa_match_df"
   ]
  },
  {
   "cell_type": "markdown",
   "metadata": {},
   "source": [
    "### Take Half and Translate to Vietnamese"
   ]
  },
  {
   "cell_type": "markdown",
   "metadata": {},
   "source": [
    "###### Half of the training examples for fine-tuning will be in English, and the other half will be in Vietnamese"
   ]
  },
  {
   "cell_type": "code",
   "execution_count": null,
   "metadata": {},
   "outputs": [],
   "source": [
    "mid = len(qa_match_df) // 2\n",
    "en_qa_match_df = qa_match_df.iloc[:mid]\n",
    "vi_qa_match_df = qa_match_df.iloc[mid:]\n",
    "vi_qa_match_df"
   ]
  },
  {
   "cell_type": "code",
   "execution_count": null,
   "metadata": {},
   "outputs": [],
   "source": [
    "def gpt4_translate_en_to_vi(text):\n",
    "    \"\"\"\n",
    "    Translate English text to Vietnamese using GPT-4 model.\n",
    "\n",
    "    :param text: Input English text\n",
    "    :return: Translated Vietnamese text\n",
    "    \"\"\"\n",
    "    messages = [\n",
    "        {\n",
    "            \"role\": \"system\",\n",
    "            \"content\": f\"Translate the following English text delimited by triple backticks to Vietnamese: {text}\"\n",
    "        }\n",
    "    ]\n",
    "    response = openai.ChatCompletion.create(\n",
    "        model=\"gpt-4\",\n",
    "        messages=messages,\n",
    "        max_tokens=1000,\n",
    "        temperature=0)\n",
    "    return response[\"choices\"][0][\"message\"][\"content\"].strip()"
   ]
  },
  {
   "cell_type": "code",
   "execution_count": null,
   "metadata": {},
   "outputs": [],
   "source": [
    "vi_questions, vi_answers = [], []\n",
    "npairs = 0\n",
    "for q, a in zip(vi_qa_match_df['Question'].tolist(), vi_qa_match_df['Answer'].tolist()):\n",
    "    vi_q = gpt4_translate_en_to_vi(q)\n",
    "    vi_questions.append(vi_q)\n",
    "    time.sleep(4)\n",
    "    vi_a = gpt4_translate_en_to_vi(a)\n",
    "    vi_answers.append(vi_a)\n",
    "    time.sleep(4)\n",
    "    npairs += 1\n",
    "    if npairs > 1 and npairs % 10 == 0:\n",
    "        print(f\"Translated {npairs} QA pairs...\")\n",
    "vi_qa_match_df['Question'] = vi_questions\n",
    "vi_qa_match_df['Answer'] = vi_answers\n",
    "vi_qa_match_df"
   ]
  },
  {
   "cell_type": "code",
   "execution_count": null,
   "metadata": {},
   "outputs": [],
   "source": [
    "en_qa_match_df"
   ]
  },
  {
   "cell_type": "code",
   "execution_count": null,
   "metadata": {},
   "outputs": [],
   "source": [
    "stripped_en_answers = [a.strip() for a in en_qa_match_df['Answer'].tolist()]\n",
    "stripped_en_answers"
   ]
  },
  {
   "cell_type": "code",
   "execution_count": null,
   "metadata": {},
   "outputs": [],
   "source": [
    "en_qa_match_df['Answer'] = stripped_en_answers\n",
    "en_qa_match_df"
   ]
  },
  {
   "cell_type": "markdown",
   "metadata": {},
   "source": [
    "### Prepare Data"
   ]
  },
  {
   "cell_type": "code",
   "execution_count": null,
   "metadata": {},
   "outputs": [],
   "source": [
    "agg_qa_match_df = pd.concat([en_qa_match_df, vi_qa_match_df], ignore_index=True)\n",
    "agg_qa_match_df"
   ]
  },
  {
   "cell_type": "code",
   "execution_count": null,
   "metadata": {},
   "outputs": [],
   "source": [
    "# Remove rows where language of question and answer is different (i.e. English question and Vietnamese answer, and vice versa)\n",
    "from langdetect import detect, LangDetectException\n",
    "\n",
    "questions, answers, qac_match = [], [], []\n",
    "for idx, row in agg_qa_match_df.iterrows():\n",
    "    q = row['Question']\n",
    "    a = row['Answer']\n",
    "    qac = row['Question-Answer-Context Match']\n",
    "    \n",
    "    try:\n",
    "        q_lang = detect(q)\n",
    "        a_lang = detect(a)\n",
    "        \n",
    "        if (q_lang == 'en' and a_lang == 'vi') or (q_lang == 'vi' and a_lang == 'en'):\n",
    "            continue\n",
    "        else:\n",
    "            questions.append(q)\n",
    "            answers.append(a)\n",
    "            qac_match.append(qac)\n",
    "    except LangDetectException:\n",
    "        # Handle the exception, e.g., skip the row or log the error\n",
    "        print(\"Can't detect language but still including anyway...\")\n",
    "        print(\"Question: \", q)\n",
    "        print(\"Answer: \", a)\n",
    "        print()\n",
    "        questions.append(q)\n",
    "        answers.append(a)\n",
    "        qac_match.append(qac)\n",
    "        continue\n",
    "\n",
    "agg_qa_match_df = pd.DataFrame({'Question': questions, 'Answer': answers, 'Question-Answer-Context Match': qac_match})\n",
    "agg_qa_match_df"
   ]
  },
  {
   "cell_type": "code",
   "execution_count": null,
   "metadata": {},
   "outputs": [],
   "source": [
    "agg_qa_match_df.drop(3, inplace=True)\n",
    "agg_qa_match_df"
   ]
  },
  {
   "cell_type": "code",
   "execution_count": null,
   "metadata": {},
   "outputs": [],
   "source": [
    "agg_qa_match_df.drop(6, inplace=True)\n",
    "agg_qa_match_df.head(10)"
   ]
  },
  {
   "cell_type": "code",
   "execution_count": null,
   "metadata": {},
   "outputs": [],
   "source": [
    "SYSTEM_MESSAGE = {\"role\": \"system\", \"content\": \"You are a Q&A chatbot specializing in saltwater intrusion in the Mekong Delta.\"}\n",
    "training_examples = []\n",
    "for q, a in zip(agg_qa_match_df['Question'].tolist(), agg_qa_match_df['Answer'].tolist()):\n",
    "    q_message = {\"role\": \"user\", \"content\": q}\n",
    "    a_message = {\"role\": \"assistant\", \"content\": a}\n",
    "    training_examples.append([SYSTEM_MESSAGE, q_message, a_message])\n",
    "training_examples_df = pd.DataFrame({\"messages\": training_examples})\n",
    "training_examples_df"
   ]
  },
  {
   "cell_type": "code",
   "execution_count": null,
   "metadata": {},
   "outputs": [],
   "source": [
    "with open('gpt_finetuning_dataset.json', 'w', encoding='utf-8') as file:\n",
    "    training_examples_df.to_json(file, force_ascii=False, orient='records', lines=True)"
   ]
  },
  {
   "cell_type": "code",
   "execution_count": null,
   "metadata": {},
   "outputs": [],
   "source": [
    "with open('gpt_finetuning_dataset.jsonl', 'w', encoding='utf-8') as file:\n",
    "    training_examples_df.to_json(file, force_ascii=False, orient='records', lines=True)"
   ]
  },
  {
   "cell_type": "code",
   "execution_count": null,
   "metadata": {},
   "outputs": [],
   "source": [
    "agg_qa_match_df.drop(columns=['Question-Answer-Context Match']).to_csv('gpt_finetuning_dataset.tsv', sep='\\t', index=False, encoding='utf-8')"
   ]
  },
  {
   "cell_type": "markdown",
   "metadata": {},
   "source": [
    "### Get Metadata of Sources for Answers to Questions for GPT-3.5 Fine-tuning Data"
   ]
  },
  {
   "cell_type": "markdown",
   "metadata": {},
   "source": [
    "##### Note: Because didn't previously save metadata, have to query and generate answers again"
   ]
  },
  {
   "cell_type": "code",
   "execution_count": null,
   "metadata": {},
   "outputs": [],
   "source": [
    "import pandas as pd\n",
    "\n",
    "training_examples_df = pd.read_json('gpt_finetuning_dataset.json', lines=True)\n",
    "training_examples_df"
   ]
  },
  {
   "cell_type": "code",
   "execution_count": null,
   "metadata": {},
   "outputs": [],
   "source": [
    "questions = []\n",
    "for l in training_examples_df['messages'].tolist():\n",
    "    questions.append(l[1]['content'])\n",
    "len(questions)"
   ]
  },
  {
   "cell_type": "code",
   "execution_count": null,
   "metadata": {},
   "outputs": [],
   "source": [
    "import time\n",
    "\n",
    "from llama_index import VectorStoreIndex, SimpleDirectoryReader\n",
    "\n",
    "documents = SimpleDirectoryReader('../../data/PDFs').load_data()\n",
    "index = VectorStoreIndex.from_documents(documents)\n",
    "\n",
    "query_engine = index.as_query_engine()"
   ]
  },
  {
   "cell_type": "code",
   "execution_count": null,
   "metadata": {},
   "outputs": [],
   "source": [
    "questions_answers_sourcemeta = []\n",
    "for q in questions:\n",
    "    a = query_engine.query(q)\n",
    "    source_nodes = a.source_nodes\n",
    "    metadata_sources = [sn.node.metadata for sn in source_nodes]\n",
    "    questions_answers_sourcemeta.append({'Question': q, 'Answer': a.response, 'Source Metadata': metadata_sources})\n",
    "    time.sleep(2)\n",
    "\n",
    "qa_source_df = pd.DataFrame(questions_answers_sourcemeta)\n",
    "qa_source_df"
   ]
  },
  {
   "cell_type": "code",
   "execution_count": null,
   "metadata": {},
   "outputs": [],
   "source": [
    "answers = []\n",
    "for a in qa_source_df['Answer'].tolist():\n",
    "    answers.append(a.strip())\n",
    "qa_source_df['Answer'] = answers"
   ]
  },
  {
   "cell_type": "code",
   "execution_count": null,
   "metadata": {},
   "outputs": [],
   "source": [
    "with open('gpt_finetuning_dataset_qa_sourcemetadata.json', 'w', encoding='utf-8') as file:\n",
    "    qa_source_df.to_json(file, force_ascii=False, orient='records', lines=True, indent=4)"
   ]
  },
  {
   "cell_type": "code",
   "execution_count": null,
   "metadata": {},
   "outputs": [],
   "source": []
  }
 ],
 "metadata": {
  "kernelspec": {
   "display_name": "nuoc",
   "language": "python",
   "name": "python3"
  },
  "language_info": {
   "codemirror_mode": {
    "name": "ipython",
    "version": 3
   },
   "file_extension": ".py",
   "mimetype": "text/x-python",
   "name": "python",
   "nbconvert_exporter": "python",
   "pygments_lexer": "ipython3",
   "version": "3.10.12"
  }
 },
 "nbformat": 4,
 "nbformat_minor": 2
}
