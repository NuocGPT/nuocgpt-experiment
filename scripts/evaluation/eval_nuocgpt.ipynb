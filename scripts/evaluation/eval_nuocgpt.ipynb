{
 "cells": [
  {
   "cell_type": "markdown",
   "metadata": {},
   "source": [
    "### Get questions, ground truth answers, and NuocGPT API answers from saved files"
   ]
  },
  {
   "cell_type": "code",
   "execution_count": null,
   "metadata": {},
   "outputs": [],
   "source": [
    "import json\n",
    "\n",
    "json_objects = []\n",
    "\n",
    "with open('../../nuocgpt-api-data/nuocgpt_eval_answers.jsonl', 'r') as file:\n",
    "    for l in file:\n",
    "        json_objects.append(json.loads(l))\n",
    "json_objects"
   ]
  },
  {
   "cell_type": "code",
   "execution_count": null,
   "metadata": {},
   "outputs": [],
   "source": [
    "len(json_objects)"
   ]
  },
  {
   "cell_type": "code",
   "execution_count": null,
   "metadata": {},
   "outputs": [],
   "source": [
    "questions = open('../../nuocgpt-api-data/eval_questions.txt', 'r').readlines()\n",
    "answers = open('../../nuocgpt-api-data/eval_answers.txt', 'r').readlines()\n",
    "print(len(questions) == len(answers))"
   ]
  },
  {
   "cell_type": "code",
   "execution_count": null,
   "metadata": {},
   "outputs": [],
   "source": [
    "len(questions)"
   ]
  },
  {
   "cell_type": "code",
   "execution_count": null,
   "metadata": {},
   "outputs": [],
   "source": [
    "import pandas as pd\n",
    "table = []\n",
    "for jobj, q, a in zip(json_objects, questions, answers):\n",
    "    llm_answer = jobj['content']['parts'][-1]\n",
    "    real_answer = a.replace('\\\\\\\\n', '\\n')\n",
    "    table.append({'question': q, 'answer': llm_answer, 'ground_truths': real_answer})\n",
    "df = pd.DataFrame(table)\n",
    "df"
   ]
  },
  {
   "cell_type": "markdown",
   "metadata": {},
   "source": [
    "Checking which ground truth answers are too long and making them shorter by having ChatGPT summarize these answers"
   ]
  },
  {
   "cell_type": "code",
   "execution_count": null,
   "metadata": {},
   "outputs": [],
   "source": [
    "nuocgpt_answers = df['answer'].tolist()\n",
    "gt_answers = df['ground_truths'].tolist()"
   ]
  },
  {
   "cell_type": "code",
   "execution_count": null,
   "metadata": {},
   "outputs": [],
   "source": [
    "max(len(string) for string in nuocgpt_answers)"
   ]
  },
  {
   "cell_type": "code",
   "execution_count": null,
   "metadata": {},
   "outputs": [],
   "source": [
    "max(len(string) for string in gt_answers)"
   ]
  },
  {
   "cell_type": "code",
   "execution_count": null,
   "metadata": {},
   "outputs": [],
   "source": [
    "ml_nuocgpt = max(len(string) for string in nuocgpt_answers)\n",
    "for idx, ans in enumerate(gt_answers):\n",
    "    if len(ans) > ml_nuocgpt:\n",
    "        print(idx)"
   ]
  },
  {
   "cell_type": "code",
   "execution_count": null,
   "metadata": {},
   "outputs": [],
   "source": [
    "gt_answers[7] = \"\"\"Chịu đựng mặn của các mô hình sản xuất nông nghiệp được phân loại như sau:\n",
    "\n",
    "**Lúa**\n",
    "- **Lúa mặn:** Chịu mặn tốt (độ mặn tới 3%).\n",
    "- **Lúa lợt:** Chịu mặn trung bình (độ mặn tới 2%).\n",
    "- **Lúa ngọt:** Chịu mặn kém (độ mặn dưới 1%).\n",
    "\n",
    "**Cây ăn trái**\n",
    "- **Cây ăn trái mặn:** Chịu mặn tốt (độ mặn tới 0,5%).\n",
    "- **Cây ăn trái lợt:** Chịu mặn trung bình (độ mặn tới 0,2%).\n",
    "- **Cây ăn trái ngọt:** Chịu mặn kém (độ mặn dưới 0,1%).\n",
    "\n",
    "**Rau màu**\n",
    "- **Rau màu mặn:** Chịu mặn tốt (độ mặn tới 1%).\n",
    "- **Rau màu lợt:** Chịu mặn trung bình (độ mặn tới 0,5%).\n",
    "- **Rau màu ngọt:** Chịu mặn kém (độ mặn dưới 0,2%).\n",
    "\n",
    "**Nuôi trồng thủy sản**\n",
    "- **Thủy sản mặn:** Chịu mặn tốt (độ mặn tới 30%).\n",
    "- **Thủy sản lợt:** Chịu mặn trung bình (độ mặn tới 20%).\n",
    "- **Thủy sản ngọt:** Chịu mặn kém (độ mặn dưới 10%).\n",
    "\n",
    "Ngưỡng chịu đựng mặn có thể thay đổi tùy thuộc vào loại cây trồng, vật nuôi, giống cây trồng, điều kiện thời tiết, v.v. Do đó, cần tìm hiểu kỹ trước khi trồng trọt, chăn nuôi trong điều kiện xâm nhập mặn.\n",
    "\n",
    "Có một số biện pháp ứng phó với xâm nhập mặn trong sản xuất nông nghiệp:\n",
    "- Trồng cây trồng, vật nuôi chịu mặn tốt.\n",
    "- Sử dụng nước ngọt để tưới tiêu.\n",
    "- Bón phân hữu cơ và vi sinh để tăng sức đề kháng cho cây trồng và vật nuôi.\n",
    "- Thực hiện các biện pháp kỹ thuật canh tác thích hợp.\n",
    "- Nghiên cứu và ứng dụng khoa học công nghệ để phát triển giống cây trồng, vật nuôi chịu mặn tốt hơn.\"\"\""
   ]
  },
  {
   "cell_type": "code",
   "execution_count": null,
   "metadata": {},
   "outputs": [],
   "source": [
    "gt_answers[28] = \"\"\"Đề xuất các biện pháp để ứng phó với hạn hán và xâm nhập mặn bao gồm:\n",
    "\n",
    "1. Tăng cường quan trắc và dự báo mặn.\n",
    "2. Hợp tác quốc tế với các nước trong khu vực.\n",
    "3. Điều chỉnh quy hoạch tổng thể và sản xuất nông nghiệp.\n",
    "4. Lựa chọn cây trồng và vật nuôi thích nghi.\n",
    "5. Kiện toàn hệ thống đê và thành lập khu tứ giác.\n",
    "6. Xây dựng đập ngầm để ngăn mặn.\n",
    "7. Xây dựng hệ thống công trình giữ nước ngọt.\n",
    "8. Xây dựng hệ thống đê biển và đê sông.\n",
    "9. Quản lý tổng hợp tài nguyên nước.\n",
    "\n",
    "Những biện pháp này nhằm đảm bảo đời sống sản xuất và bảo vệ môi trường trong bối cảnh hạn hán và xâm nhập mặn.\"\"\""
   ]
  },
  {
   "cell_type": "code",
   "execution_count": null,
   "metadata": {},
   "outputs": [],
   "source": [
    "gt_answers[99] = \"\"\"Cách chủ động cập nhật tình hình xâm nhập mặn và đối phó với hiện tượng này:\n",
    "\n",
    "- Theo dõi thông tin thời tiết và môi trường từ các nguồn tin đáng tin cậy như truyền hình, radio, trang web chính phủ và ứng dụng di động liên quan đến thời tiết và môi trường.\n",
    "- Sử dụng mạng xã hội và các diễn đàn trực tuyến để theo dõi tình hình xâm nhập mặn và chia sẻ thông tin với cộng đồng địa phương.\n",
    "- Tham gia vào các cuộc họp cộng đồng và tương tác với cơ quan chính phủ và tổ chức phi chính phủ để cập nhật thông tin và biện pháp đối phó.\n",
    "- Nói chuyện với hàng xóm và cộng đồng địa phương để nhận thông tin từ góc nhìn cơ sở và nhận biết sớm về các tín hiệu xâm nhập mặn.\n",
    "- Sử dụng ứng dụng di động và công nghệ để theo dõi tình hình xâm nhập mặn và cảnh báo thời tiết.\n",
    "- Tìm hiểu về biện pháp đối phó với xâm nhập mặn, chẳng hạn như bảo vệ cây trồng và nguồn nước ngọt, để có sẵn kế hoạch khi xâm nhập mặn xảy ra.\n",
    "- Nếu có cơ hội, tham gia vào các dự án nghiên cứu hoặc giám sát môi trường để cung cấp dữ liệu và thông tin về xâm nhập mặn.\n",
    "- Tham gia vào các chương trình giáo dục và tập huấn về xâm nhập mặn để nắm rõ hơn về hiện tượng này và cách ứng phó.\n",
    "- Tham gia vào tổ chức cộng đồng có thể giúp cập nhật thông tin và hành động cùng cộng đồng để đảm bảo an toàn và bảo vệ nguồn cung cấp nước ngọt và môi trường sống.\"\"\""
   ]
  },
  {
   "cell_type": "code",
   "execution_count": null,
   "metadata": {},
   "outputs": [],
   "source": [
    "df['ground_truths'] = gt_answers"
   ]
  },
  {
   "cell_type": "markdown",
   "metadata": {},
   "source": [
    "### Evaluation"
   ]
  },
  {
   "cell_type": "code",
   "execution_count": null,
   "metadata": {},
   "outputs": [],
   "source": [
    "import os\n",
    "import openai\n",
    "from dotenv import load_dotenv, find_dotenv\n",
    "_ = load_dotenv(find_dotenv())\n",
    "\n",
    "openai.api_key  = os.getenv('OPENAI_API_KEY')"
   ]
  },
  {
   "cell_type": "markdown",
   "metadata": {},
   "source": [
    "##### Ragas"
   ]
  },
  {
   "cell_type": "code",
   "execution_count": null,
   "metadata": {},
   "outputs": [],
   "source": [
    "df['contexts'] = df['ground_truths'].tolist()\n",
    "df"
   ]
  },
  {
   "cell_type": "code",
   "execution_count": null,
   "metadata": {},
   "outputs": [],
   "source": [
    "from ragas.metrics import AnswerCorrectness, AnswerSimilarity\n",
    "from ragas.metrics.faithfulness import  Faithfulness\n",
    "from datasets import Dataset\n",
    "\n",
    "dataset = Dataset.from_pandas(df)\n",
    "\n",
    "answer_correctness = AnswerCorrectness(weights=[0.4, 0.6])\n",
    "answer_correctness_results = answer_correctness.score(dataset)\n",
    "\n",
    "answer_similarity = AnswerSimilarity()\n",
    "answer_similarity_results = answer_similarity.score(dataset)"
   ]
  },
  {
   "cell_type": "code",
   "execution_count": null,
   "metadata": {},
   "outputs": [],
   "source": [
    "dataset = Dataset.from_pandas(df)\n",
    "faithfulness = Faithfulness()\n",
    "faithfulness_results = faithfulness.score(dataset)"
   ]
  },
  {
   "cell_type": "code",
   "execution_count": null,
   "metadata": {},
   "outputs": [],
   "source": [
    "answer_correctness_results.to_pandas()"
   ]
  },
  {
   "cell_type": "code",
   "execution_count": null,
   "metadata": {},
   "outputs": [],
   "source": [
    "import numpy as np\n",
    "import statistics\n",
    "\n",
    "answer_correctness_scores = answer_correctness_results.to_pandas()['answer_correctness'].tolist()\n",
    "print('average correctness score: ', np.mean(answer_correctness_scores))\n",
    "print('median correctness score: ', statistics.median(answer_correctness_scores))\n",
    "print()\n",
    "\n",
    "answer_similarity_scores = answer_similarity_results.to_pandas()['answer_similarity'].tolist()\n",
    "print('average similarity score: ', np.mean(answer_similarity_scores))\n",
    "print('median similarity score: ', statistics.median(answer_similarity_scores))\n",
    "print()\n",
    "\n",
    "faithfulness_scores = faithfulness_results.to_pandas()['faithfulness'].tolist()\n",
    "print('average faithfulness score: ', np.mean(faithfulness_scores))\n",
    "print('median faithfulness score: ', statistics.median(faithfulness_scores))"
   ]
  },
  {
   "cell_type": "code",
   "execution_count": null,
   "metadata": {},
   "outputs": [],
   "source": [
    "df_eval = answer_correctness_results.to_pandas()\n",
    "df_eval['answer_similarity'] = answer_similarity_results.to_pandas()['answer_similarity'].tolist()\n",
    "df_eval['faithfulness'] = faithfulness_results.to_pandas()['faithfulness'].tolist()\n",
    "df_eval"
   ]
  },
  {
   "cell_type": "code",
   "execution_count": null,
   "metadata": {},
   "outputs": [],
   "source": []
  }
 ],
 "metadata": {
  "kernelspec": {
   "display_name": "nuoc",
   "language": "python",
   "name": "python3"
  },
  "language_info": {
   "codemirror_mode": {
    "name": "ipython",
    "version": 3
   },
   "file_extension": ".py",
   "mimetype": "text/x-python",
   "name": "python",
   "nbconvert_exporter": "python",
   "pygments_lexer": "ipython3",
   "version": "3.10.12"
  }
 },
 "nbformat": 4,
 "nbformat_minor": 2
}
