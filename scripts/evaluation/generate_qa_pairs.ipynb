{
 "cells": [
  {
   "cell_type": "code",
   "execution_count": null,
   "metadata": {},
   "outputs": [],
   "source": [
    "import openai\n",
    "import os\n",
    "\n",
    "from dotenv import load_dotenv, find_dotenv\n",
    "_ = load_dotenv(find_dotenv())\n",
    "\n",
    "openai.api_key  = os.getenv('OPENAI_API_KEY')"
   ]
  },
  {
   "cell_type": "code",
   "execution_count": null,
   "metadata": {},
   "outputs": [],
   "source": [
    "from langchain.chat_models import ChatOpenAI\n",
    "from langchain.prompts import ChatPromptTemplate\n",
    "from langchain.chains import LLMChain\n",
    "\n",
    "chat = ChatOpenAI(temperature=1)"
   ]
  },
  {
   "cell_type": "code",
   "execution_count": null,
   "metadata": {},
   "outputs": [],
   "source": [
    "from langchain.chains import SequentialChain"
   ]
  },
  {
   "cell_type": "markdown",
   "metadata": {},
   "source": [
    "### Generate Questions with Given Topic"
   ]
  },
  {
   "cell_type": "code",
   "execution_count": null,
   "metadata": {},
   "outputs": [],
   "source": [
    "first_prompt = ChatPromptTemplate.from_template(\n",
    "    \"Generate a question related to \\\n",
    "    the topic of {topic}?\"\n",
    ")\n",
    "\n",
    "chain_one = LLMChain(llm=chat, prompt=first_prompt, output_key=\"english_question\")"
   ]
  },
  {
   "cell_type": "code",
   "execution_count": null,
   "metadata": {},
   "outputs": [],
   "source": [
    "second_prompt = ChatPromptTemplate.from_template(\n",
    "    \"Translate the following question to \\\n",
    "    Vietnamese: {english_question}\"\n",
    ")\n",
    "\n",
    "chain_two = LLMChain(llm=chat, prompt=second_prompt, output_key=\"vietnamese_question\")"
   ]
  },
  {
   "cell_type": "code",
   "execution_count": null,
   "metadata": {},
   "outputs": [],
   "source": [
    "third_prompt = ChatPromptTemplate.from_template(\n",
    "    \"Answer the following question in \\\n",
    "    Vietnamese: {vietnamese_question}\"\n",
    ")\n",
    "\n",
    "chain_three = LLMChain(llm=chat, prompt=third_prompt, output_key=\"vietnamese_answer\")"
   ]
  },
  {
   "cell_type": "code",
   "execution_count": null,
   "metadata": {},
   "outputs": [],
   "source": [
    "# OVERALL CHAIN\n",
    "# Input: topic\n",
    "# Outputs: english_question,vietnamese_question,vietnamese_answer\n",
    "overall_chain = SequentialChain(\n",
    "    chains=[chain_one, chain_two, chain_three],\n",
    "    input_variables=[\"topic\"],\n",
    "    output_variables=[\"english_question\", \"vietnamese_question\",\"vietnamese_answer\"],\n",
    "    verbose=True\n",
    ")"
   ]
  },
  {
   "cell_type": "code",
   "execution_count": null,
   "metadata": {},
   "outputs": [],
   "source": [
    "import pandas as pd\n",
    "\n",
    "topics = [\"water intrusion\", \"salinity intrusion\"]\n",
    "seen_qas = set()\n",
    "qas = []\n",
    "for topic in topics:\n",
    "    for i in range(100):\n",
    "        qa = overall_chain(topic)\n",
    "        qa['topic'] = topic\n",
    "        if qa['vietnamese_question'] not in seen_qas:\n",
    "            qas.append(qa)\n",
    "            seen_qas.add(qa['vietnamese_question'])\n",
    "df_qa_total = pd.DataFrame(qas)"
   ]
  },
  {
   "cell_type": "code",
   "execution_count": null,
   "metadata": {},
   "outputs": [],
   "source": [
    "df_qa_total.to_excel('../../data/first_iteration_qa_pairs.xlsx')"
   ]
  },
  {
   "cell_type": "code",
   "execution_count": null,
   "metadata": {},
   "outputs": [],
   "source": [
    "df_qa_total['english_question'].to_csv('../../data/init_english_questions.csv')"
   ]
  },
  {
   "cell_type": "code",
   "execution_count": null,
   "metadata": {},
   "outputs": [],
   "source": [
    "df_qa_total.to_json('../../data/first_iteration_qa_pairs.json', orient='records')"
   ]
  },
  {
   "cell_type": "markdown",
   "metadata": {},
   "source": [
    "### Generate Paraphrased Questions"
   ]
  },
  {
   "cell_type": "code",
   "execution_count": null,
   "metadata": {},
   "outputs": [],
   "source": [
    "sample_questions = [l.strip() for l in open('../../data/salinity_intrusion_sample_questions.txt').readlines()]\n",
    "sample_questions"
   ]
  },
  {
   "cell_type": "code",
   "execution_count": null,
   "metadata": {},
   "outputs": [],
   "source": [
    "first_prompt = ChatPromptTemplate.from_template(\n",
    "    \"Paraphrase the following question: {question}?\"\n",
    ")\n",
    "\n",
    "chain_one = LLMChain(llm=chat, prompt=first_prompt, output_key=\"english_question\")"
   ]
  },
  {
   "cell_type": "code",
   "execution_count": null,
   "metadata": {},
   "outputs": [],
   "source": [
    "second_prompt = ChatPromptTemplate.from_template(\n",
    "    \"Translate the following question to \\\n",
    "    Vietnamese: {english_question}\"\n",
    ")\n",
    "\n",
    "chain_two = LLMChain(llm=chat, prompt=second_prompt, output_key=\"vietnamese_question\")"
   ]
  },
  {
   "cell_type": "code",
   "execution_count": null,
   "metadata": {},
   "outputs": [],
   "source": [
    "third_prompt = ChatPromptTemplate.from_template(\n",
    "    \"Answer the following question in \\\n",
    "    Vietnamese: {vietnamese_question}\"\n",
    ")\n",
    "\n",
    "chain_three = LLMChain(llm=chat, prompt=third_prompt, output_key=\"vietnamese_answer\")"
   ]
  },
  {
   "cell_type": "code",
   "execution_count": null,
   "metadata": {},
   "outputs": [],
   "source": [
    "# OVERALL CHAIN\n",
    "# Input: question\n",
    "# Outputs: english_question,vietnamese_question,vietnamese_answer\n",
    "overall_chain = SequentialChain(\n",
    "    chains=[chain_one, chain_two, chain_three],\n",
    "    input_variables=[\"question\"],\n",
    "    output_variables=[\"english_question\", \"vietnamese_question\",\"vietnamese_answer\"],\n",
    "    verbose=True\n",
    ")"
   ]
  },
  {
   "cell_type": "code",
   "execution_count": null,
   "metadata": {},
   "outputs": [],
   "source": [
    "seen_qas = set()\n",
    "paraphrased_qas = []\n",
    "for sq in sample_questions:\n",
    "    for i in range(10):\n",
    "        qa = overall_chain(sq)\n",
    "        if qa['vietnamese_question'] not in seen_qas:\n",
    "            paraphrased_qas.append(qa)\n",
    "            seen_qas.add(qa['vietnamese_question'])\n",
    "df_paraphrased_qas = pd.DataFrame(paraphrased_qas)\n",
    "df_paraphrased_qas"
   ]
  },
  {
   "cell_type": "code",
   "execution_count": null,
   "metadata": {},
   "outputs": [],
   "source": [
    "df_paraphrased_qas.to_json('../../data/second_iteration_qa_pairs.json', orient='records')\n",
    "df_paraphrased_qas.to_excel('../../data/second_iteration_qa_pairs.xlsx')"
   ]
  },
  {
   "cell_type": "code",
   "execution_count": null,
   "metadata": {},
   "outputs": [],
   "source": []
  }
 ],
 "metadata": {
  "kernelspec": {
   "display_name": "nuoc",
   "language": "python",
   "name": "python3"
  },
  "language_info": {
   "codemirror_mode": {
    "name": "ipython",
    "version": 3
   },
   "file_extension": ".py",
   "mimetype": "text/x-python",
   "name": "python",
   "nbconvert_exporter": "python",
   "pygments_lexer": "ipython3",
   "version": "3.10.12"
  }
 },
 "nbformat": 4,
 "nbformat_minor": 2
}
