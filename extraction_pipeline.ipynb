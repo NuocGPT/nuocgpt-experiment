{
 "cells": [
  {
   "cell_type": "code",
   "execution_count": null,
   "metadata": {},
   "outputs": [],
   "source": [
    "import openai\n",
    "import os\n",
    "\n",
    "from dotenv import load_dotenv, find_dotenv\n",
    "_ = load_dotenv(find_dotenv())\n",
    "\n",
    "openai.api_key  = os.getenv('OPENAI_API_KEY')"
   ]
  },
  {
   "cell_type": "markdown",
   "metadata": {},
   "source": [
    "### Extract Text from PDF Papers"
   ]
  },
  {
   "cell_type": "code",
   "execution_count": null,
   "metadata": {},
   "outputs": [],
   "source": [
    "from llama_index import VectorStoreIndex, SimpleDirectoryReader\n",
    "\n",
    "documents = SimpleDirectoryReader('data/PDFs').load_data()\n",
    "index = VectorStoreIndex.from_documents(documents)"
   ]
  },
  {
   "cell_type": "markdown",
   "metadata": {},
   "source": [
    "### Generate Questions"
   ]
  },
  {
   "cell_type": "code",
   "execution_count": null,
   "metadata": {},
   "outputs": [],
   "source": [
    "from llama_index.evaluation import DatasetGenerator\n",
    "\n",
    "data_generator = DatasetGenerator.from_documents(documents)\n",
    "questions = data_generator.generate_questions_from_nodes()\n",
    "questions"
   ]
  },
  {
   "cell_type": "code",
   "execution_count": null,
   "metadata": {},
   "outputs": [],
   "source": [
    "with open('data/llama_index_generated_questions.txt', 'w') as wf:\n",
    "    for q in questions:\n",
    "        wf.write(\"%s\\n\" % q)"
   ]
  },
  {
   "cell_type": "markdown",
   "metadata": {},
   "source": [
    "### Evaluation"
   ]
  },
  {
   "cell_type": "markdown",
   "metadata": {},
   "source": [
    "##### Are questions, answers, and context matching?"
   ]
  },
  {
   "cell_type": "code",
   "execution_count": null,
   "metadata": {},
   "outputs": [],
   "source": [
    "import random\n",
    "\n",
    "sampled_questions = random.sample(questions, 100)"
   ]
  },
  {
   "cell_type": "code",
   "execution_count": null,
   "metadata": {},
   "outputs": [],
   "source": [
    "import pandas as pd\n",
    "import time\n",
    "from llama_index.evaluation import QueryResponseEvaluator\n",
    "from llama_index.llm_predictor import LLMPredictor\n",
    "from langchain.chat_models import ChatOpenAI\n",
    "from llama_index import ServiceContext\n",
    "\n",
    "llm_predictor = LLMPredictor(llm=ChatOpenAI(temperature=0, model_name=\"gpt-4\"))\n",
    "service_context = ServiceContext.from_defaults(llm_predictor=llm_predictor)\n",
    "evaluator = QueryResponseEvaluator(service_context=service_context)\n",
    "\n",
    "query_engine = index.as_query_engine()\n",
    "questions_and_answers = []\n",
    "for q in sampled_questions:\n",
    "    a = query_engine.query(q)\n",
    "    eval_result = evaluator.evaluate(q, a)\n",
    "    questions_and_answers.append({'Question': q, 'Answer': a.response, 'Match': eval_result})\n",
    "    time.sleep(5)\n",
    "\n",
    "qa_match_df = pd.DataFrame(questions_and_answers)\n",
    "qa_match_df\n"
   ]
  },
  {
   "cell_type": "code",
   "execution_count": null,
   "metadata": {},
   "outputs": [],
   "source": [
    "qa_match_df.to_json('questions_answers_english_validation.json', orient='records')"
   ]
  },
  {
   "cell_type": "code",
   "execution_count": null,
   "metadata": {},
   "outputs": [],
   "source": [
    "qa_match_df[qa_match_df['Match'] == 'YES']"
   ]
  },
  {
   "cell_type": "markdown",
   "metadata": {},
   "source": [
    "### Save Preliminary Result"
   ]
  },
  {
   "cell_type": "code",
   "execution_count": null,
   "metadata": {},
   "outputs": [],
   "source": [
    "index.set_index_id(\"vector_index\")\n",
    "index.storage_context.persist('preliminary-llama-index')"
   ]
  },
  {
   "cell_type": "markdown",
   "metadata": {},
   "source": [
    "### Save List of PDF Papers"
   ]
  },
  {
   "cell_type": "code",
   "execution_count": null,
   "metadata": {},
   "outputs": [],
   "source": [
    "import os\n",
    "\n",
    "filenames = []\n",
    "dir_path = 'data/PDFs/'\n",
    "for f in os.listdir(dir_path):\n",
    "    if os.path.isfile(os.path.join(dir_path, f)):\n",
    "        filenames.append(f)\n",
    "\n",
    "with open('extracted_files.txt', 'w') as wf:\n",
    "    for f in filenames:\n",
    "        wf.write(f + '\\n')"
   ]
  },
  {
   "cell_type": "markdown",
   "metadata": {},
   "source": [
    "### Sample English Question"
   ]
  },
  {
   "cell_type": "code",
   "execution_count": null,
   "metadata": {},
   "outputs": [],
   "source": [
    "english_question = \"What water supply issues exist in Dania Beach?\"\n",
    "query_engine = index.as_query_engine()\n",
    "response = query_engine.query(english_question)\n",
    "print(response)"
   ]
  },
  {
   "cell_type": "markdown",
   "metadata": {},
   "source": [
    "### Sample Vietnamese Question"
   ]
  },
  {
   "cell_type": "code",
   "execution_count": null,
   "metadata": {},
   "outputs": [],
   "source": [
    "vietnamese_question = \"\"\"Ở đâu trong vùng Mê Công là nơi có mức độ xâm nhập mặn cao nhất trong mùa khô 2019-2020\n",
    "và gây thiệt hại nghiêm trọng đối với các mô hình trồng cây ăn trái và nuôi trồng thủy sản?\"\"\"\n",
    "query_engine = index.as_query_engine()\n",
    "response = query_engine.query(vietnamese_question)\n",
    "print(response)"
   ]
  },
  {
   "cell_type": "markdown",
   "metadata": {},
   "source": [
    "### Load Index from Local Filesystem"
   ]
  },
  {
   "cell_type": "code",
   "execution_count": null,
   "metadata": {},
   "outputs": [],
   "source": [
    "from llama_index import StorageContext, load_index_from_storage\n",
    "\n",
    "sc = StorageContext.from_defaults(persist_dir='preliminary-llama-index')\n",
    "index2 = load_index_from_storage(sc, 'vector_index')"
   ]
  },
  {
   "cell_type": "code",
   "execution_count": null,
   "metadata": {},
   "outputs": [],
   "source": [
    "# Test same sample Vietnamese question from above\n",
    "vietnamese_question = \"\"\"Ở đâu trong vùng Mê Công là nơi có mức độ xâm nhập mặn cao nhất trong mùa khô 2019-2020\n",
    "và gây thiệt hại nghiêm trọng đối với các mô hình trồng cây ăn trái và nuôi trồng thủy sản?\"\"\"\n",
    "query_engine = index2.as_query_engine()\n",
    "response = query_engine.query(vietnamese_question)\n",
    "print(response)"
   ]
  }
 ],
 "metadata": {
  "kernelspec": {
   "display_name": "nuoc",
   "language": "python",
   "name": "python3"
  },
  "language_info": {
   "codemirror_mode": {
    "name": "ipython",
    "version": 3
   },
   "file_extension": ".py",
   "mimetype": "text/x-python",
   "name": "python",
   "nbconvert_exporter": "python",
   "pygments_lexer": "ipython3",
   "version": "3.10.12"
  }
 },
 "nbformat": 4,
 "nbformat_minor": 2
}
