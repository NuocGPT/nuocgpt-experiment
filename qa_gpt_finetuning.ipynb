{
 "cells": [
  {
   "cell_type": "markdown",
   "metadata": {
    "id": "LXrSxVW3PwYU"
   },
   "source": [
    "# Fine Tuning GPT-3.5-Turbo\n",
    "\n",
    "In this notebook, we walk through an example of fine-tuning gpt-3.5-turbo.\n",
    "\n",
    "Specifically, we attempt to distill GPT-4's knowledge, by generating training data with GPT-4 to then fine-tune GPT-3.5.\n",
    "\n",
    "All training data is generated using two different sections of our index data, creating both a training and evalution set.\n",
    "\n",
    "We then finetune with our `OpenAIFinetuneEngine` wrapper abstraction.\n",
    "\n",
    "Evaluation is done using the `ragas` library, which we will detail later on."
   ]
  },
  {
   "cell_type": "code",
   "execution_count": null,
   "metadata": {
    "id": "ZLEGeuUPPwYW"
   },
   "outputs": [],
   "source": [
    "%pip install llama-index==0.8.12 pypdf sentence-transformers ragas"
   ]
  },
  {
   "cell_type": "code",
   "execution_count": null,
   "metadata": {
    "id": "xILA5KnIPwYX"
   },
   "outputs": [],
   "source": [
    "import os\n",
    "import openai"
   ]
  },
  {
   "cell_type": "code",
   "execution_count": null,
   "metadata": {
    "id": "IYzNUinAPwYY"
   },
   "outputs": [],
   "source": [
    "from dotenv import load_dotenv, find_dotenv\n",
    "_ = load_dotenv(find_dotenv())\n",
    "\n",
    "openai.api_key  = os.getenv('OPENAI_API_KEY')"
   ]
  },
  {
   "cell_type": "markdown",
   "metadata": {
    "id": "cO5qOTQgPwYY"
   },
   "source": [
    "## Data Setup\n",
    "\n",
    "Here, we first down load the PDF that we will use to generate training data."
   ]
  },
  {
   "cell_type": "markdown",
   "metadata": {
    "id": "qQyXK_oBPwYZ"
   },
   "source": [
    "### QA Generation"
   ]
  },
  {
   "cell_type": "code",
   "execution_count": null,
   "metadata": {},
   "outputs": [],
   "source": [
    "import os\n",
    "import time\n",
    "\n",
    "import pandas as pd\n",
    "from llama_index import SimpleDirectoryReader, ServiceContext\n",
    "from llama_index.llms import OpenAI\n",
    "from llama_index.evaluation import DatasetGenerator\n",
    "from llama_index import VectorStoreIndex\n",
    "\n",
    "dir_path = './data/gpt_PDFs'\n",
    "\n",
    "gpt_4_context = ServiceContext.from_defaults(\n",
    "    llm=OpenAI(model=\"gpt-4\", temperature=0.3)\n",
    ")\n",
    "\n",
    "question_gen_query = (\n",
    "                     \"You are a simple farmer \"\n",
    "                     \"in Mekong Delta Vietnam. You are interested to learn about salinity intrusion and its effects in the Mekong Delta in Vietnam. \"\n",
    "                     \"Using the provided context from a report on climate change and the Mekong Delta, formulate \"\n",
    "                     \"a single question that captures an important fact from the context. Restrict the question to the context information provided, \"\n",
    "                     \"and do not include any reference to specific equation, figure, diagram or table, report, or paper. \"\n",
    "                     \"Do not ask anything that requires deep technical and mathematical knowledge.\"\n",
    ")\n",
    "\n",
    "qac = []\n",
    "# Iterate over each file in the directory\n",
    "for filename in os.listdir(dir_path):\n",
    "    file_path = os.path.join(dir_path, filename)\n",
    "\n",
    "\n",
    "    # Check if it's a file and not a sub-directory\n",
    "    if os.path.isfile(file_path):\n",
    "        doc = SimpleDirectoryReader(\n",
    "            input_files=[file_path]\n",
    "        ).load_data()\n",
    "\n",
    "        dataset_generator = DatasetGenerator.from_documents(\n",
    "            doc[:],\n",
    "            question_gen_query=question_gen_query,\n",
    "            service_context=gpt_4_context,\n",
    "        )\n",
    "        time.sleep(4)\n",
    "\n",
    "        questions = dataset_generator.generate_questions_from_nodes(num=20)\n",
    "\n",
    "        index = VectorStoreIndex.from_documents(doc, service_context=gpt_4_context)\n",
    "\n",
    "        query_engine = index.as_query_engine(similarity_top_k=2)\n",
    "\n",
    "        contexts = []\n",
    "        answers = []\n",
    "        for question in questions:\n",
    "            response = query_engine.query(question)\n",
    "            contexts.append([x.node.get_content() for x in response.source_nodes])\n",
    "            answers.append(str(response))\n",
    "            time.sleep(1)\n",
    "\n",
    "        for q, a, c in zip(questions, answers, contexts):\n",
    "            qac.append({'Question': q, 'Answer': a, 'Context': c})\n",
    "        time.sleep(2)\n",
    "\n",
    "qac_df = pd.DataFrame(qac)\n",
    "qac_df"
   ]
  },
  {
   "cell_type": "code",
   "execution_count": null,
   "metadata": {},
   "outputs": [],
   "source": [
    "questions = []\n",
    "answers = []\n",
    "for q, a in zip(qac_df['Question'].tolist(), qac_df['Answer'].tolist()):\n",
    "    questions.append(q.replace(\"\\n\", \"\"))\n",
    "    answers.append(a.replace(\"\\n\", \"\"))\n",
    "qac_df['Question'] = questions\n",
    "qac_df['Answer'] = answers\n",
    "qac_df"
   ]
  },
  {
   "cell_type": "code",
   "execution_count": null,
   "metadata": {},
   "outputs": [],
   "source": [
    "qac_df.to_csv('qa_gpt_finetuning.tsv', sep='\\t', index=False, encoding='utf-8')"
   ]
  },
  {
   "cell_type": "code",
   "execution_count": null,
   "metadata": {
    "id": "q0u9vBLPPwYi"
   },
   "outputs": [],
   "source": []
  }
 ],
 "metadata": {
  "colab": {
   "provenance": []
  },
  "kernelspec": {
   "display_name": "nuoc",
   "language": "python",
   "name": "python3"
  },
  "language_info": {
   "codemirror_mode": {
    "name": "ipython",
    "version": 3
   },
   "file_extension": ".py",
   "mimetype": "text/x-python",
   "name": "python",
   "nbconvert_exporter": "python",
   "pygments_lexer": "ipython3",
   "version": "3.10.12"
  }
 },
 "nbformat": 4,
 "nbformat_minor": 0
}
